{
  "nbformat": 4,
  "nbformat_minor": 0,
  "metadata": {
    "colab": {
      "name": "using_tensorflow_chatbot.ipynb",
      "provenance": [],
      "authorship_tag": "ABX9TyMYgimUD6VtNURQyqhfgnsC",
      "include_colab_link": true
    },
    "kernelspec": {
      "name": "python3",
      "display_name": "Python 3"
    },
    "language_info": {
      "name": "python"
    }
  },
  "cells": [
    {
      "cell_type": "markdown",
      "metadata": {
        "id": "view-in-github",
        "colab_type": "text"
      },
      "source": [
        "<a href=\"https://colab.research.google.com/github/arpan-sharma/Machine-learning_projects/blob/main/using_tensorflow_chatbot_funny.ipynb\" target=\"_parent\"><img src=\"https://colab.research.google.com/assets/colab-badge.svg\" alt=\"Open In Colab\"/></a>"
      ]
    },
    {
      "cell_type": "code",
      "metadata": {
        "id": "zN75RMvG-17i"
      },
      "source": [
        "pip install tflearn"
      ],
      "execution_count": 14,
      "outputs": []
    },
    {
      "cell_type": "code",
      "metadata": {
        "id": "0SKUH8gWty3U"
      },
      "source": [
        "#Import Libraries\n",
        "import nltk\n",
        "from nltk.stem.lancaster import LancasterStemmer\n",
        "steammer = LancasterStemmer()\n",
        "import numpy\n",
        "import tflearn\n",
        "import tensorflow\n",
        "import random\n",
        "import json"
      ],
      "execution_count": 18,
      "outputs": []
    },
    {
      "cell_type": "code",
      "metadata": {
        "colab": {
          "base_uri": "https://localhost:8080/"
        },
        "id": "wcY1LgL2_NEf",
        "outputId": "f6d4f91a-7c3e-4378-988f-de9ac11fbe43"
      },
      "source": [
        "nltk.download('punkt')"
      ],
      "execution_count": 15,
      "outputs": [
        {
          "output_type": "stream",
          "text": [
            "[nltk_data] Downloading package punkt to /root/nltk_data...\n",
            "[nltk_data]   Unzipping tokenizers/punkt.zip.\n"
          ],
          "name": "stdout"
        },
        {
          "output_type": "execute_result",
          "data": {
            "text/plain": [
              "True"
            ]
          },
          "metadata": {
            "tags": []
          },
          "execution_count": 15
        }
      ]
    },
    {
      "cell_type": "code",
      "metadata": {
        "colab": {
          "base_uri": "https://localhost:8080/"
        },
        "id": "7pWlyx6z9r3-",
        "outputId": "45d661a1-86ef-4a21-9dae-f1711c6e7398"
      },
      "source": [
        "from google.colab import drive\n",
        "drive.mount('/content/drive')"
      ],
      "execution_count": 9,
      "outputs": [
        {
          "output_type": "stream",
          "text": [
            "Drive already mounted at /content/drive; to attempt to forcibly remount, call drive.mount(\"/content/drive\", force_remount=True).\n"
          ],
          "name": "stdout"
        }
      ]
    },
    {
      "cell_type": "code",
      "metadata": {
        "id": "Wb8oLt7a1FFh"
      },
      "source": [
        "#Loading our JSON Data\n",
        "\n",
        "import json\n",
        "with open('/content/drive/MyDrive/chat_bot/intents_fun.json') as file:\n",
        "    data = json.load(file)"
      ],
      "execution_count": 10,
      "outputs": []
    },
    {
      "cell_type": "code",
      "metadata": {
        "id": "PGDTj3JZ97Sx"
      },
      "source": [
        "#Extracting Data\n",
        "words = []\n",
        "labels = []\n",
        "docs_x = []\n",
        "docs_y = []"
      ],
      "execution_count": 11,
      "outputs": []
    },
    {
      "cell_type": "code",
      "metadata": {
        "id": "h8VK3OtE-pMD"
      },
      "source": [
        "for intent in data['intents']:\n",
        "    for pattern in intent['patterns']:\n",
        "        wrds = nltk.word_tokenize(pattern)\n",
        "        words.extend(wrds)\n",
        "        docs_x.append(wrds)\n",
        "        docs_y.append(intent[\"tag\"])\n",
        "        \n",
        "    if intent['tag'] not in labels:\n",
        "        labels.append(intent['tag'])"
      ],
      "execution_count": 16,
      "outputs": []
    },
    {
      "cell_type": "code",
      "metadata": {
        "id": "Fu7X0ovi-suQ"
      },
      "source": [
        "#Word Stemming\n",
        "\n",
        "words = [steammer.stem(w.lower()) for w in words if w != \"?\"]\n",
        "words = sorted(list(set(words)))\n",
        "\n",
        "labels = sorted(labels)\n"
      ],
      "execution_count": 19,
      "outputs": []
    },
    {
      "cell_type": "code",
      "metadata": {
        "id": "kEIfpvxB_e9U"
      },
      "source": [
        "#Bag of Words\n",
        "training = []\n",
        "output = []\n",
        "\n",
        "out_empty = [0 for _ in range(len(labels))]\n",
        "\n",
        "for x, doc in enumerate(docs_x):\n",
        "    bag = []\n",
        "\n",
        "    wrds = [steammer.stem(w.lower()) for w in doc]\n",
        "\n",
        "    for w in words:\n",
        "        if w in wrds:\n",
        "            bag.append(1)\n",
        "        else:\n",
        "            bag.append(0)\n",
        "\n",
        "    output_row = out_empty[:]\n",
        "    output_row[labels.index(docs_y[x])] = 1\n",
        "\n",
        "    training.append(bag)\n",
        "    output.append(output_row)"
      ],
      "execution_count": 21,
      "outputs": []
    },
    {
      "cell_type": "code",
      "metadata": {
        "id": "jItoLgIE_wAC"
      },
      "source": [
        "#we will convert our training data and output to numpy arrays.\n",
        "training = numpy.array(training)\n",
        "output = numpy.array(output)\n"
      ],
      "execution_count": 22,
      "outputs": []
    },
    {
      "cell_type": "code",
      "metadata": {
        "id": "99ik-sSfABaE"
      },
      "source": [
        "#Developing a Model\n",
        "net = tflearn.input_data(shape=[None, len(training[0])])\n",
        "net = tflearn.fully_connected(net, 8)\n",
        "net = tflearn.fully_connected(net, 8)\n",
        "net = tflearn.fully_connected(net, len(output[0]), activation=\"softmax\")\n",
        "net = tflearn.regression(net)\n",
        "\n",
        "model = tflearn.DNN(net)\n"
      ],
      "execution_count": null,
      "outputs": []
    },
    {
      "cell_type": "code",
      "metadata": {
        "colab": {
          "base_uri": "https://localhost:8080/"
        },
        "id": "OXnN86L4A0Er",
        "outputId": "d09f538f-917b-49fc-eba8-707b8aa8be65"
      },
      "source": [
        "#Training & Saving the Model\n",
        "model.fit(training, output, n_epoch=1000, batch_size=8, show_metric=True)\n",
        "model.save(\"model.tflearn\")"
      ],
      "execution_count": 25,
      "outputs": [
        {
          "output_type": "stream",
          "text": [
            "Training Step: 10999  | total loss: \u001b[1m\u001b[32m0.00075\u001b[0m\u001b[0m | time: 0.037s\n",
            "| Adam | epoch: 1000 | loss: 0.00075 - acc: 1.0000 -- iter: 80/86\n",
            "Training Step: 11000  | total loss: \u001b[1m\u001b[32m0.00079\u001b[0m\u001b[0m | time: 0.040s\n",
            "| Adam | epoch: 1000 | loss: 0.00079 - acc: 1.0000 -- iter: 86/86\n",
            "--\n",
            "INFO:tensorflow:/content/model.tflearn is not in all_model_checkpoint_paths. Manually adding it.\n"
          ],
          "name": "stdout"
        }
      ]
    },
    {
      "cell_type": "code",
      "metadata": {
        "id": "SN-vTQl0DKAR"
      },
      "source": [
        ""
      ],
      "execution_count": null,
      "outputs": []
    },
    {
      "cell_type": "code",
      "metadata": {
        "colab": {
          "base_uri": "https://localhost:8080/"
        },
        "id": "bSDo-qKTBDmB",
        "outputId": "74648ed4-ca05-48f6-ae7e-511cc95d0d6b"
      },
      "source": [
        "#Making Predictions\n",
        "def bag_of_words(s, words):\n",
        "    bag = [0 for _ in range(len(words))]\n",
        "\n",
        "    s_words = nltk.word_tokenize(s)\n",
        "    s_words = [steammer.stem(word.lower()) for word in s_words]\n",
        "\n",
        "    for se in s_words:\n",
        "        for i, w in enumerate(words):\n",
        "            if w == se:\n",
        "                bag[i] = 1\n",
        "            \n",
        "    return numpy.array(bag)\n",
        "\n",
        "\n",
        "def chat():\n",
        "    print(\"Start talking with the bot (type quit to stop)!\")\n",
        "    while True:\n",
        "        inp = input(\"You: \")\n",
        "        if inp.lower() == \"quit\":\n",
        "            break\n",
        "\n",
        "        results = model.predict([bag_of_words(inp, words)])\n",
        "        results_index = numpy.argmax(results)\n",
        "        tag = labels[results_index]\n",
        "\n",
        "        for tg in data[\"intents\"]:\n",
        "            if tg['tag'] == tag:\n",
        "                responses = tg['responses']\n",
        "\n",
        "        print(random.choice(responses))\n",
        "\n",
        "chat()"
      ],
      "execution_count": 28,
      "outputs": [
        {
          "output_type": "stream",
          "text": [
            "Start talking with the bot (type quit to stop)!\n",
            "You: what is your name\n",
            "I'm Lalu also known as:Darubazz.\n",
            "You: one bollywood movie dailog\n",
            "Bade se bada business … paise se nahi, ek bade idea se bada hota hai\n",
            "You: again dailog\n",
            "Kuchh Bhi Karne Ka But, Meri Ego Ko Hurt Nahi Karne Ka.\n",
            "You: fir se ek dailog\n",
            "Hum hi hum hai toh kya hum hai … tum hi tum ho toh kya tum ho\n",
            "You: who is you\n",
            "Hello!\n",
            "You: chite ke chal dailog \n",
            "Himmat batai nahi … dikhai jaati hai\n",
            "You: one word for you\n",
            "Talk to you later\n",
            "You: if you are human what you say\n",
            "Hello!\n",
            "You: why you say hello\n",
            "Hello!\n",
            "You: movie dailog\n",
            "Jis mohabbat mein deewangi na ho … woh mohabbat hi nahi\n",
            "You: dailog\n",
            "Dosti Ka Ek Usool He, Madam: No Sorry, No Thank You…\n",
            "You: gali bak\n",
            "Sad to see you go :(\n",
            "You: galiyan\n",
            "Sad to see you go :(\n",
            "You: absuse\n",
            "Sad to see you go :(\n",
            "You: madarchod\n",
            "Goodbye!\n",
            "You: gandu\n",
            "Sad to see you go :(\n",
            "You: quit\n"
          ],
          "name": "stdout"
        }
      ]
    }
  ]
}