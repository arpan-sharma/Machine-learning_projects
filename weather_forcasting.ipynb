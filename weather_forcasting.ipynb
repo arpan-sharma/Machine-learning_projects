{
  "nbformat": 4,
  "nbformat_minor": 0,
  "metadata": {
    "colab": {
      "name": "weather_forcasting.ipynb",
      "provenance": [],
      "mount_file_id": "15fmVHcAVHyvTdZfy9L_k3Ax2qcAjNgdu",
      "authorship_tag": "ABX9TyP5Pga3AyMHQInAgci45PnO",
      "include_colab_link": true
    },
    "kernelspec": {
      "name": "python3",
      "display_name": "Python 3"
    },
    "language_info": {
      "name": "python"
    }
  },
  "cells": [
    {
      "cell_type": "markdown",
      "metadata": {
        "id": "view-in-github",
        "colab_type": "text"
      },
      "source": [
        "<a href=\"https://colab.research.google.com/github/arpan-sharma/Machine-learning_projects/blob/main/weather_forcasting.ipynb\" target=\"_parent\"><img src=\"https://colab.research.google.com/assets/colab-badge.svg\" alt=\"Open In Colab\"/></a>"
      ]
    },
    {
      "cell_type": "code",
      "metadata": {
        "id": "Fm4Vp0KZt_sC"
      },
      "source": [
        "#Import libraries\n",
        "# from pandas import datetime\n",
        "import pandas as pd\n",
        "import matplotlib.pyplot as plt\n",
        "import warnings\n",
        "from sklearn import pipeline,preprocessing,metrics,model_selection,ensemble\n",
        "from sklearn_pandas import DataFrameMapper\n"
      ],
      "execution_count": null,
      "outputs": []
    },
    {
      "cell_type": "code",
      "metadata": {
        "colab": {
          "base_uri": "https://localhost:8080/",
          "height": 455
        },
        "id": "qSE3ZGGrBXSj",
        "outputId": "117513a2-ee2d-47bd-aec3-14fb9f251c89"
      },
      "source": [
        "#read Csv File\n",
        "weather = pd.read_csv('/content/drive/MyDrive/weather_data/JaipurRawData3.csv',parse_dates=['date'],index_col='date')\n",
        "weather"
      ],
      "execution_count": null,
      "outputs": [
        {
          "output_type": "execute_result",
          "data": {
            "text/html": [
              "<div>\n",
              "<style scoped>\n",
              "    .dataframe tbody tr th:only-of-type {\n",
              "        vertical-align: middle;\n",
              "    }\n",
              "\n",
              "    .dataframe tbody tr th {\n",
              "        vertical-align: top;\n",
              "    }\n",
              "\n",
              "    .dataframe thead th {\n",
              "        text-align: right;\n",
              "    }\n",
              "</style>\n",
              "<table border=\"1\" class=\"dataframe\">\n",
              "  <thead>\n",
              "    <tr style=\"text-align: right;\">\n",
              "      <th></th>\n",
              "      <th>meantempm</th>\n",
              "      <th>meandewptm</th>\n",
              "      <th>meanpressurem</th>\n",
              "      <th>maxhumidity</th>\n",
              "      <th>minhumidity</th>\n",
              "      <th>maxtempm</th>\n",
              "      <th>mintempm</th>\n",
              "      <th>maxdewptm</th>\n",
              "      <th>mindewptm</th>\n",
              "      <th>maxpressurem</th>\n",
              "      <th>minpressurem</th>\n",
              "      <th>precipm</th>\n",
              "    </tr>\n",
              "    <tr>\n",
              "      <th>date</th>\n",
              "      <th></th>\n",
              "      <th></th>\n",
              "      <th></th>\n",
              "      <th></th>\n",
              "      <th></th>\n",
              "      <th></th>\n",
              "      <th></th>\n",
              "      <th></th>\n",
              "      <th></th>\n",
              "      <th></th>\n",
              "      <th></th>\n",
              "      <th></th>\n",
              "    </tr>\n",
              "  </thead>\n",
              "  <tbody>\n",
              "    <tr>\n",
              "      <th>2016-05-01</th>\n",
              "      <td>34</td>\n",
              "      <td>-1</td>\n",
              "      <td>1005.63</td>\n",
              "      <td>24</td>\n",
              "      <td>4</td>\n",
              "      <td>43</td>\n",
              "      <td>26</td>\n",
              "      <td>9</td>\n",
              "      <td>-10</td>\n",
              "      <td>1009</td>\n",
              "      <td>999</td>\n",
              "      <td>0.0</td>\n",
              "    </tr>\n",
              "    <tr>\n",
              "      <th>2016-05-02</th>\n",
              "      <td>36</td>\n",
              "      <td>4</td>\n",
              "      <td>1005.46</td>\n",
              "      <td>21</td>\n",
              "      <td>6</td>\n",
              "      <td>43</td>\n",
              "      <td>29</td>\n",
              "      <td>10</td>\n",
              "      <td>-2</td>\n",
              "      <td>1008</td>\n",
              "      <td>1001</td>\n",
              "      <td>0.0</td>\n",
              "    </tr>\n",
              "    <tr>\n",
              "      <th>2016-05-03</th>\n",
              "      <td>35</td>\n",
              "      <td>6</td>\n",
              "      <td>1006.00</td>\n",
              "      <td>27</td>\n",
              "      <td>5</td>\n",
              "      <td>41</td>\n",
              "      <td>29</td>\n",
              "      <td>12</td>\n",
              "      <td>-2</td>\n",
              "      <td>1009</td>\n",
              "      <td>1000</td>\n",
              "      <td>0.0</td>\n",
              "    </tr>\n",
              "    <tr>\n",
              "      <th>2016-05-04</th>\n",
              "      <td>34</td>\n",
              "      <td>7</td>\n",
              "      <td>1005.65</td>\n",
              "      <td>29</td>\n",
              "      <td>6</td>\n",
              "      <td>41</td>\n",
              "      <td>27</td>\n",
              "      <td>13</td>\n",
              "      <td>0</td>\n",
              "      <td>1008</td>\n",
              "      <td>1001</td>\n",
              "      <td>0.0</td>\n",
              "    </tr>\n",
              "    <tr>\n",
              "      <th>2016-05-05</th>\n",
              "      <td>31</td>\n",
              "      <td>11</td>\n",
              "      <td>1007.94</td>\n",
              "      <td>61</td>\n",
              "      <td>13</td>\n",
              "      <td>38</td>\n",
              "      <td>24</td>\n",
              "      <td>16</td>\n",
              "      <td>6</td>\n",
              "      <td>1011</td>\n",
              "      <td>1003</td>\n",
              "      <td>5.0</td>\n",
              "    </tr>\n",
              "    <tr>\n",
              "      <th>...</th>\n",
              "      <td>...</td>\n",
              "      <td>...</td>\n",
              "      <td>...</td>\n",
              "      <td>...</td>\n",
              "      <td>...</td>\n",
              "      <td>...</td>\n",
              "      <td>...</td>\n",
              "      <td>...</td>\n",
              "      <td>...</td>\n",
              "      <td>...</td>\n",
              "      <td>...</td>\n",
              "      <td>...</td>\n",
              "    </tr>\n",
              "    <tr>\n",
              "      <th>2018-03-07</th>\n",
              "      <td>24</td>\n",
              "      <td>2</td>\n",
              "      <td>1014.07</td>\n",
              "      <td>55</td>\n",
              "      <td>5</td>\n",
              "      <td>32</td>\n",
              "      <td>15</td>\n",
              "      <td>8</td>\n",
              "      <td>-6</td>\n",
              "      <td>1017</td>\n",
              "      <td>1011</td>\n",
              "      <td>0.0</td>\n",
              "    </tr>\n",
              "    <tr>\n",
              "      <th>2018-03-08</th>\n",
              "      <td>24</td>\n",
              "      <td>1</td>\n",
              "      <td>1014.41</td>\n",
              "      <td>42</td>\n",
              "      <td>7</td>\n",
              "      <td>32</td>\n",
              "      <td>15</td>\n",
              "      <td>5</td>\n",
              "      <td>-5</td>\n",
              "      <td>1017</td>\n",
              "      <td>1011</td>\n",
              "      <td>0.0</td>\n",
              "    </tr>\n",
              "    <tr>\n",
              "      <th>2018-03-09</th>\n",
              "      <td>26</td>\n",
              "      <td>3</td>\n",
              "      <td>1014.16</td>\n",
              "      <td>37</td>\n",
              "      <td>8</td>\n",
              "      <td>33</td>\n",
              "      <td>19</td>\n",
              "      <td>6</td>\n",
              "      <td>-1</td>\n",
              "      <td>1017</td>\n",
              "      <td>1009</td>\n",
              "      <td>0.0</td>\n",
              "    </tr>\n",
              "    <tr>\n",
              "      <th>2018-03-10</th>\n",
              "      <td>26</td>\n",
              "      <td>4</td>\n",
              "      <td>1013.76</td>\n",
              "      <td>38</td>\n",
              "      <td>6</td>\n",
              "      <td>34</td>\n",
              "      <td>19</td>\n",
              "      <td>8</td>\n",
              "      <td>0</td>\n",
              "      <td>1017</td>\n",
              "      <td>1009</td>\n",
              "      <td>0.0</td>\n",
              "    </tr>\n",
              "    <tr>\n",
              "      <th>2018-03-11</th>\n",
              "      <td>26</td>\n",
              "      <td>3</td>\n",
              "      <td>1013.00</td>\n",
              "      <td>46</td>\n",
              "      <td>6</td>\n",
              "      <td>34</td>\n",
              "      <td>18</td>\n",
              "      <td>10</td>\n",
              "      <td>-3</td>\n",
              "      <td>1016</td>\n",
              "      <td>1009</td>\n",
              "      <td>0.0</td>\n",
              "    </tr>\n",
              "  </tbody>\n",
              "</table>\n",
              "<p>679 rows × 12 columns</p>\n",
              "</div>"
            ],
            "text/plain": [
              "            meantempm  meandewptm  ...  minpressurem  precipm\n",
              "date                               ...                       \n",
              "2016-05-01         34          -1  ...           999      0.0\n",
              "2016-05-02         36           4  ...          1001      0.0\n",
              "2016-05-03         35           6  ...          1000      0.0\n",
              "2016-05-04         34           7  ...          1001      0.0\n",
              "2016-05-05         31          11  ...          1003      5.0\n",
              "...               ...         ...  ...           ...      ...\n",
              "2018-03-07         24           2  ...          1011      0.0\n",
              "2018-03-08         24           1  ...          1011      0.0\n",
              "2018-03-09         26           3  ...          1009      0.0\n",
              "2018-03-10         26           4  ...          1009      0.0\n",
              "2018-03-11         26           3  ...          1009      0.0\n",
              "\n",
              "[679 rows x 12 columns]"
            ]
          },
          "metadata": {
            "tags": []
          },
          "execution_count": 2
        }
      ]
    },
    {
      "cell_type": "code",
      "metadata": {
        "id": "t5BjiN-gRcRB"
      },
      "source": [
        "# weather.describe()\n",
        "weather = weather.drop(['meantempm', 'meandewptm','meanpressurem','maxhumidity','minhumidity','maxdewptm','mindewptm','maxpressurem','minpressurem','precipm','maxtempm'], axis=1)\n",
        "#plot graph \n",
        "# weather.plot()"
      ],
      "execution_count": null,
      "outputs": []
    },
    {
      "cell_type": "code",
      "metadata": {
        "id": "EIjQ4amJDo-l",
        "colab": {
          "base_uri": "https://localhost:8080/",
          "height": 455
        },
        "outputId": "1a45e9af-2400-4e14-f233-ec34791937f8"
      },
      "source": [
        "weather"
      ],
      "execution_count": null,
      "outputs": [
        {
          "output_type": "execute_result",
          "data": {
            "text/html": [
              "<div>\n",
              "<style scoped>\n",
              "    .dataframe tbody tr th:only-of-type {\n",
              "        vertical-align: middle;\n",
              "    }\n",
              "\n",
              "    .dataframe tbody tr th {\n",
              "        vertical-align: top;\n",
              "    }\n",
              "\n",
              "    .dataframe thead th {\n",
              "        text-align: right;\n",
              "    }\n",
              "</style>\n",
              "<table border=\"1\" class=\"dataframe\">\n",
              "  <thead>\n",
              "    <tr style=\"text-align: right;\">\n",
              "      <th></th>\n",
              "      <th>mintempm</th>\n",
              "    </tr>\n",
              "    <tr>\n",
              "      <th>date</th>\n",
              "      <th></th>\n",
              "    </tr>\n",
              "  </thead>\n",
              "  <tbody>\n",
              "    <tr>\n",
              "      <th>2016-05-01</th>\n",
              "      <td>26</td>\n",
              "    </tr>\n",
              "    <tr>\n",
              "      <th>2016-05-02</th>\n",
              "      <td>29</td>\n",
              "    </tr>\n",
              "    <tr>\n",
              "      <th>2016-05-03</th>\n",
              "      <td>29</td>\n",
              "    </tr>\n",
              "    <tr>\n",
              "      <th>2016-05-04</th>\n",
              "      <td>27</td>\n",
              "    </tr>\n",
              "    <tr>\n",
              "      <th>2016-05-05</th>\n",
              "      <td>24</td>\n",
              "    </tr>\n",
              "    <tr>\n",
              "      <th>...</th>\n",
              "      <td>...</td>\n",
              "    </tr>\n",
              "    <tr>\n",
              "      <th>2018-03-07</th>\n",
              "      <td>15</td>\n",
              "    </tr>\n",
              "    <tr>\n",
              "      <th>2018-03-08</th>\n",
              "      <td>15</td>\n",
              "    </tr>\n",
              "    <tr>\n",
              "      <th>2018-03-09</th>\n",
              "      <td>19</td>\n",
              "    </tr>\n",
              "    <tr>\n",
              "      <th>2018-03-10</th>\n",
              "      <td>19</td>\n",
              "    </tr>\n",
              "    <tr>\n",
              "      <th>2018-03-11</th>\n",
              "      <td>18</td>\n",
              "    </tr>\n",
              "  </tbody>\n",
              "</table>\n",
              "<p>679 rows × 1 columns</p>\n",
              "</div>"
            ],
            "text/plain": [
              "            mintempm\n",
              "date                \n",
              "2016-05-01        26\n",
              "2016-05-02        29\n",
              "2016-05-03        29\n",
              "2016-05-04        27\n",
              "2016-05-05        24\n",
              "...              ...\n",
              "2018-03-07        15\n",
              "2018-03-08        15\n",
              "2018-03-09        19\n",
              "2018-03-10        19\n",
              "2018-03-11        18\n",
              "\n",
              "[679 rows x 1 columns]"
            ]
          },
          "metadata": {
            "tags": []
          },
          "execution_count": 4
        }
      ]
    },
    {
      "cell_type": "code",
      "metadata": {
        "colab": {
          "base_uri": "https://localhost:8080/",
          "height": 294
        },
        "id": "gSWjsH9gSraW",
        "outputId": "c1167028-18f9-46fd-b723-07ae6e879547"
      },
      "source": [
        "# plot graph \n",
        "weather.plot()"
      ],
      "execution_count": null,
      "outputs": [
        {
          "output_type": "execute_result",
          "data": {
            "text/plain": [
              "<matplotlib.axes._subplots.AxesSubplot at 0x7fd6e9726250>"
            ]
          },
          "metadata": {
            "tags": []
          },
          "execution_count": 5
        },
        {
          "output_type": "display_data",
          "data": {
            "image/png": "[encoded data removed]",
            "text/plain": [
              "<Figure size 432x288 with 1 Axes>"
            ]
          },
          "metadata": {
            "tags": [],
            "needs_background": "light"
          }
        }
      ]
    },
    {
      "cell_type": "code",
      "metadata": {
        "id": "7NQ6XLidcNkZ"
      },
      "source": [
        "#Seprate Train Data And Test Data\n",
        "# from sklearn.model_selection import train_test_split\n",
        "# train_set, test_set  = train_test_split(weather, train_size=500)\n",
        "# print(train_set)\n",
        "# print(test_set)\n",
        "x = weather\n",
        "train = x[0:500]\n",
        "test = x[500:]\n",
        "predictions = []\n"
      ],
      "execution_count": null,
      "outputs": []
    },
    {
      "cell_type": "code",
      "metadata": {
        "colab": {
          "base_uri": "https://localhost:8080/",
          "height": 300
        },
        "id": "Uvbap6YCcvp-",
        "outputId": "78dcd589-d5c8-49f0-84fa-a80b595ef7db"
      },
      "source": [
        "train.describe()\n"
      ],
      "execution_count": null,
      "outputs": [
        {
          "output_type": "execute_result",
          "data": {
            "text/html": [
              "<div>\n",
              "<style scoped>\n",
              "    .dataframe tbody tr th:only-of-type {\n",
              "        vertical-align: middle;\n",
              "    }\n",
              "\n",
              "    .dataframe tbody tr th {\n",
              "        vertical-align: top;\n",
              "    }\n",
              "\n",
              "    .dataframe thead th {\n",
              "        text-align: right;\n",
              "    }\n",
              "</style>\n",
              "<table border=\"1\" class=\"dataframe\">\n",
              "  <thead>\n",
              "    <tr style=\"text-align: right;\">\n",
              "      <th></th>\n",
              "      <th>mintempm</th>\n",
              "    </tr>\n",
              "  </thead>\n",
              "  <tbody>\n",
              "    <tr>\n",
              "      <th>count</th>\n",
              "      <td>500.000000</td>\n",
              "    </tr>\n",
              "    <tr>\n",
              "      <th>mean</th>\n",
              "      <td>21.302000</td>\n",
              "    </tr>\n",
              "    <tr>\n",
              "      <th>std</th>\n",
              "      <td>6.530244</td>\n",
              "    </tr>\n",
              "    <tr>\n",
              "      <th>min</th>\n",
              "      <td>3.000000</td>\n",
              "    </tr>\n",
              "    <tr>\n",
              "      <th>25%</th>\n",
              "      <td>16.000000</td>\n",
              "    </tr>\n",
              "    <tr>\n",
              "      <th>50%</th>\n",
              "      <td>23.000000</td>\n",
              "    </tr>\n",
              "    <tr>\n",
              "      <th>75%</th>\n",
              "      <td>26.000000</td>\n",
              "    </tr>\n",
              "    <tr>\n",
              "      <th>max</th>\n",
              "      <td>32.000000</td>\n",
              "    </tr>\n",
              "  </tbody>\n",
              "</table>\n",
              "</div>"
            ],
            "text/plain": [
              "         mintempm\n",
              "count  500.000000\n",
              "mean    21.302000\n",
              "std      6.530244\n",
              "min      3.000000\n",
              "25%     16.000000\n",
              "50%     23.000000\n",
              "75%     26.000000\n",
              "max     32.000000"
            ]
          },
          "metadata": {
            "tags": []
          },
          "execution_count": 7
        }
      ]
    },
    {
      "cell_type": "markdown",
      "metadata": {
        "id": "RGVxscbZdCob"
      },
      "source": [
        "#Autoreggresive Model"
      ]
    },
    {
      "cell_type": "code",
      "metadata": {
        "id": "M3kR9E6vczoQ",
        "colab": {
          "base_uri": "https://localhost:8080/"
        },
        "outputId": "6725c991-374b-44a0-bd7f-fd80869ef51d"
      },
      "source": [
        "from statsmodels.tsa.ar_model import AR\n",
        "from sklearn.metrics import mean_squared_error"
      ],
      "execution_count": null,
      "outputs": [
        {
          "output_type": "stream",
          "text": [
            "/usr/local/lib/python3.7/dist-packages/statsmodels/tools/_testing.py:19: FutureWarning: pandas.util.testing is deprecated. Use the functions in the public API at pandas.testing instead.\n",
            "  import pandas.util.testing as tm\n"
          ],
          "name": "stderr"
        }
      ]
    },
    {
      "cell_type": "code",
      "metadata": {
        "colab": {
          "base_uri": "https://localhost:8080/"
        },
        "id": "lGFfI3MieGBH",
        "outputId": "33af1da3-d5b2-412f-c594-32f86e0a933f"
      },
      "source": [
        "#train Model \n",
        "model_ar = AR(train)\n",
        "model_ar_fit = model_ar.fit()\n",
        "# train"
      ],
      "execution_count": null,
      "outputs": [
        {
          "output_type": "stream",
          "text": [
            "/usr/local/lib/python3.7/dist-packages/statsmodels/tsa/base/tsa_model.py:219: ValueWarning: A date index has been provided, but it has no associated frequency information and so will be ignored when e.g. forecasting.\n",
            "  ' ignored when e.g. forecasting.', ValueWarning)\n"
          ],
          "name": "stderr"
        }
      ]
    },
    {
      "cell_type": "code",
      "metadata": {
        "id": "yR5KaTwWeXB-",
        "colab": {
          "base_uri": "https://localhost:8080/"
        },
        "outputId": "b18a8e76-24a3-4aca-d361-60855cf194d4"
      },
      "source": [
        "#prediction \n",
        "predictions = model_ar_fit.predict(start=500,end=679)\n",
        "x_blank = []\n",
        "for x in predictions:\n",
        "  x_blank.append([round(x)])\n",
        "predictions = x_blank\n",
        "# print(x_blank)\n",
        "# predictions"
      ],
      "execution_count": null,
      "outputs": [
        {
          "output_type": "stream",
          "text": [
            "/usr/local/lib/python3.7/dist-packages/statsmodels/tsa/base/tsa_model.py:576: ValueWarning: No supported index is available. Prediction results will be given with an integer index beginning at `start`.\n",
            "  ValueWarning)\n"
          ],
          "name": "stderr"
        }
      ]
    },
    {
      "cell_type": "code",
      "metadata": {
        "colab": {
          "base_uri": "https://localhost:8080/"
        },
        "id": "7DHVG7e8a5OU",
        "outputId": "fd042365-5bc3-44b7-a949-79c13f4ee39f"
      },
      "source": [
        "y = []\n",
        "\n",
        "for x in test.mintempm:\n",
        "  y.append([x])\n",
        "test_ch = y\n",
        "print(predictions)\n",
        "print(test_ch)\n"
      ],
      "execution_count": null,
      "outputs": [
        {
          "output_type": "stream",
          "text": [
            "[[23], [23], [23], [24], [24], [24], [23], [24], [24], [24], [24], [24], [23], [23], [24], [23], [23], [23], [23], [23], [23], [23], [23], [23], [23], [23], [23], [23], [23], [23], [23], [23], [23], [23], [23], [23], [23], [23], [23], [23], [23], [23], [23], [23], [23], [23], [23], [23], [23], [23], [23], [23], [23], [23], [23], [23], [23], [23], [23], [23], [23], [23], [23], [23], [23], [23], [22], [22], [22], [22], [22], [22], [22], [22], [22], [22], [22], [22], [22], [22], [22], [22], [22], [22], [22], [22], [22], [22], [22], [22], [22], [22], [22], [22], [22], [22], [22], [22], [22], [22], [22], [22], [22], [22], [22], [22], [22], [22], [22], [22], [22], [22], [22], [22], [22], [22], [22], [22], [22], [22], [22], [22], [22], [22], [22], [22], [22], [22], [22], [22], [22], [22], [22], [22], [22], [22], [22], [22], [22], [22], [22], [22], [22], [22], [22], [22], [22], [22], [22], [22], [22], [22], [22], [21], [21], [21], [21], [21], [21], [21], [21], [21], [21], [21], [21], [21], [21], [21], [21], [21], [21], [21], [21], [21], [21], [21], [21], [21], [21], [21]]\n",
            "[[23], [24], [25], [24], [24], [21], [24], [25], [26], [24], [24], [26], [25], [26], [26], [24], [24], [23], [24], [27], [23], [22], [25], [21], [22], [23], [22], [23], [21], [22], [22], [21], [21], [19], [19], [20], [21], [21], [19], [19], [20], [18], [21], [19], [19], [19], [20], [17], [17], [17], [17], [18], [20], [17], [16], [17], [16], [16], [15], [14], [14], [17], [17], [18], [18], [16], [15], [12], [11], [11], [10], [10], [10], [11], [11], [11], [11], [12], [12], [14], [13], [12], [16], [13], [13], [10], [10], [12], [14], [12], [9], [10], [9], [10], [8], [12], [10], [12], [10], [11], [11], [9], [10], [10], [9], [9], [10], [9], [9], [8], [7], [6], [10], [7], [8], [7], [7], [6], [7], [8], [9], [12], [10], [8], [7], [10], [12], [11], [10], [8], [10], [12], [10], [7], [8], [9], [9], [10], [11], [16], [12], [13], [15], [11], [10], [14], [11], [10], [10], [11], [15], [12], [13], [11], [11], [16], [16], [13], [14], [15], [15], [17], [17], [18], [20], [14], [16], [18], [20], [20], [19], [18], [16], [15], [15], [15], [19], [19], [18]]\n"
          ],
          "name": "stdout"
        }
      ]
    },
    {
      "cell_type": "code",
      "metadata": {
        "colab": {
          "base_uri": "https://localhost:8080/",
          "height": 282
        },
        "id": "EGBEFdy3bLSu",
        "outputId": "612c5782-c508-445f-98af-617c6ea55604"
      },
      "source": [
        "#plot Test Train Graph \n",
        "plt.plot(test_ch) #dataset of test\n",
        "plt.plot(predictions,color='red')#predicted data"
      ],
      "execution_count": null,
      "outputs": [
        {
          "output_type": "execute_result",
          "data": {
            "text/plain": [
              "[<matplotlib.lines.Line2D at 0x7fd6e0cb6690>]"
            ]
          },
          "metadata": {
            "tags": []
          },
          "execution_count": 12
        },
        {
          "output_type": "display_data",
          "data": {
            "image/png": "[encoded data removed]",
            "text/plain": [
              "<Figure size 432x288 with 1 Axes>"
            ]
          },
          "metadata": {
            "tags": [],
            "needs_background": "light"
          }
        }
      ]
    },
    {
      "cell_type": "code",
      "metadata": {
        "id": "0u8UcpPrdUkz"
      },
      "source": [
        ""
      ],
      "execution_count": null,
      "outputs": []
    }
  ]
}