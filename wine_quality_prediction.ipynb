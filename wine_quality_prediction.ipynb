{
  "nbformat": 4,
  "nbformat_minor": 0,
  "metadata": {
    "colab": {
      "name": "ar_wine quality prediction.ipynb",
      "provenance": [],
      "collapsed_sections": [],
      "mount_file_id": "1a018MdMXITP7j2XovvYo4soQUpS1A6My",
      "authorship_tag": "ABX9TyMVyo21JxgQSRLFoOTybTIt",
      "include_colab_link": true
    },
    "kernelspec": {
      "name": "python3",
      "display_name": "Python 3"
    },
    "language_info": {
      "name": "python"
    }
  },
  "cells": [
    {
      "cell_type": "markdown",
      "metadata": {
        "id": "view-in-github",
        "colab_type": "text"
      },
      "source": [
        "<a href=\"https://colab.research.google.com/github/arpan-sharma/Machine-learning_projects/blob/main/wine_quality_prediction.ipynb\" target=\"_parent\"><img src=\"https://colab.research.google.com/assets/colab-badge.svg\" alt=\"Open In Colab\"/></a>"
      ]
    },
    {
      "cell_type": "code",
      "metadata": {
        "colab": {
          "base_uri": "https://localhost:8080/"
        },
        "id": "C7TG_cE9bnMX",
        "outputId": "d9417f0a-46fd-469b-daf2-3360586a475c"
      },
      "source": [
        "print(\" 🤘 Jai Mata Di 🤘\")"
      ],
      "execution_count": 1,
      "outputs": [
        {
          "output_type": "stream",
          "text": [
            " 🤘 Jai Mata Di 🤘\n"
          ],
          "name": "stdout"
        }
      ]
    },
    {
      "cell_type": "markdown",
      "metadata": {
        "id": "SYEgW__rcgUH"
      },
      "source": [
        "#**Part 1 Data Preprocessing**"
      ]
    },
    {
      "cell_type": "code",
      "metadata": {
        "id": "z_1htFxAbwTH",
        "colab": {
          "base_uri": "https://localhost:8080/"
        },
        "outputId": "de89fdc0-599b-4717-857e-f9dc6ea1161c"
      },
      "source": [
        "#Chaliye Shuru karte hai hai \n",
        "#import libraries \n",
        "import pandas as pd\n",
        "import numpy as np\n",
        "import seaborn as sns\n",
        "\n",
        "# Check the version of all libraries\n",
        "print(pd.__version__) \n",
        "print(np.__version__) \n",
        "print(sns.__version__) \n",
        "\n",
        "\n"
      ],
      "execution_count": 21,
      "outputs": [
        {
          "output_type": "stream",
          "text": [
            "1.1.5\n",
            "1.19.5\n",
            "0.11.1\n"
          ],
          "name": "stdout"
        }
      ]
    },
    {
      "cell_type": "code",
      "metadata": {
        "colab": {
          "base_uri": "https://localhost:8080/"
        },
        "id": "QIMxfLhedrfB",
        "outputId": "c3da0cb2-99d2-410e-d336-545c6154180c"
      },
      "source": [
        "#import the tranig data set as a panda dataframe \n",
        "df_train = pd.read_csv('/content/drive/MyDrive/wine data/train.csv',delimiter=',')\n",
        "df_train.info()\n",
        "#another method to check null value or not \n",
        "# df_train.isna().any()"
      ],
      "execution_count": 3,
      "outputs": [
        {
          "output_type": "stream",
          "text": [
            "<class 'pandas.core.frame.DataFrame'>\n",
            "RangeIndex: 1143 entries, 0 to 1142\n",
            "Data columns (total 13 columns):\n",
            " #   Column                Non-Null Count  Dtype  \n",
            "---  ------                --------------  -----  \n",
            " 0   fixed acidity         1143 non-null   float64\n",
            " 1   volatile acidity      1143 non-null   float64\n",
            " 2   citric acid           1143 non-null   float64\n",
            " 3   residual sugar        1143 non-null   float64\n",
            " 4   chlorides             1143 non-null   float64\n",
            " 5   free sulfur dioxide   1143 non-null   float64\n",
            " 6   total sulfur dioxide  1143 non-null   float64\n",
            " 7   density               1143 non-null   float64\n",
            " 8   pH                    1143 non-null   float64\n",
            " 9   sulphates             1143 non-null   float64\n",
            " 10  alcohol               1143 non-null   float64\n",
            " 11  quality               1143 non-null   int64  \n",
            " 12  Id                    1143 non-null   int64  \n",
            "dtypes: float64(11), int64(2)\n",
            "memory usage: 116.2 KB\n"
          ],
          "name": "stdout"
        }
      ]
    },
    {
      "cell_type": "code",
      "metadata": {
        "id": "hI3w_uJLgo8o"
      },
      "source": [
        "#if you have NANA value then replace it\n",
        "# df_train = df_train.apply(lambda x: x.fillna(x.median()), axis=0)\n",
        "\n",
        "#Drop duplicate Rows \n",
        "df_train = df_train.drop_duplicates()"
      ],
      "execution_count": 4,
      "outputs": []
    },
    {
      "cell_type": "code",
      "metadata": {
        "colab": {
          "base_uri": "https://localhost:8080/",
          "height": 370
        },
        "id": "QC-uYnrnoH2V",
        "outputId": "75e781fd-1b90-413f-de89-c738f33243e1"
      },
      "source": [
        "#draw heatmap to visualize the correlation between every two of the 10 feature\n",
        "df_corr = df_train.iloc[:,:10].corr()\n",
        "sns.heatmap(df_corr,cmap=\"RdBu\")"
      ],
      "execution_count": 5,
      "outputs": [
        {
          "output_type": "execute_result",
          "data": {
            "text/plain": [
              "<matplotlib.axes._subplots.AxesSubplot at 0x7f580d47d610>"
            ]
          },
          "metadata": {
            "tags": []
          },
          "execution_count": 5
        },
        {
          "output_type": "display_data",
          "data": {
            "image/png": "[encoded data removed]",
            "text/plain": [
              "<Figure size 432x288 with 2 Axes>"
            ]
          },
          "metadata": {
            "tags": [],
            "needs_background": "light"
          }
        }
      ]
    },
    {
      "cell_type": "markdown",
      "metadata": {
        "id": "i5KfidcRtNh6"
      },
      "source": [
        "#**Part2 Regression**"
      ]
    },
    {
      "cell_type": "code",
      "metadata": {
        "id": "uEjuMFM9tZGZ"
      },
      "source": [
        "from sklearn.model_selection import train_test_split\n",
        "from sklearn.linear_model import LinearRegression\n",
        "from sklearn.metrics import r2_score\n",
        "import matplotlib.pyplot as plt\n",
        "from sklearn.tree import DecisionTreeRegressor\n",
        "from sklearn.ensemble import RandomForestRegressor\n"
      ],
      "execution_count": 22,
      "outputs": []
    },
    {
      "cell_type": "code",
      "metadata": {
        "id": "z4KduNCoZfWd"
      },
      "source": [
        "fetaure = ['fixed acidity','volatile acidity','citric acid','residual sugar','chlorides','free sulfur dioxide','total sulfur dioxide','density','pH','sulphates','alcohol']\n",
        "x = df_train[fetaure]\n",
        "y = df_train['quality']\n"
      ],
      "execution_count": 9,
      "outputs": []
    },
    {
      "cell_type": "code",
      "metadata": {
        "id": "hGcArYPOxAVT"
      },
      "source": [
        "#use test train split submodule in skitlearn to split the data in train.csv with 80 percent train and 20 percent of test \n",
        "x_train,X_test,Y_train,Y_test = train_test_split(x,y,train_size = 0.8,random_state = 10)\n"
      ],
      "execution_count": 58,
      "outputs": []
    },
    {
      "cell_type": "markdown",
      "metadata": {
        "id": "rx-wgFgo3qya"
      },
      "source": [
        "# **Part3 Train & Test Model**"
      ]
    },
    {
      "cell_type": "code",
      "metadata": {
        "colab": {
          "base_uri": "https://localhost:8080/"
        },
        "id": "gDN_SbqA3YMS",
        "outputId": "743eb3d7-2930-4631-eda9-5c96d2ddba02"
      },
      "source": [
        "# model = LinearRegression()\n",
        "# model = DecisionTreeRegressor()\n",
        "model = RandomForestRegressor()\n",
        "model.fit(x_train,Y_train)\n",
        "\n",
        "#Linear Regression = Accuracy: 41%\n",
        "#Decission Tree Regressor = Accuracy: -1%\n",
        "# Random Forest: Accuracy: 54%\n"
      ],
      "execution_count": 59,
      "outputs": [
        {
          "output_type": "execute_result",
          "data": {
            "text/plain": [
              "RandomForestRegressor(bootstrap=True, ccp_alpha=0.0, criterion='mse',\n",
              "                      max_depth=None, max_features='auto', max_leaf_nodes=None,\n",
              "                      max_samples=None, min_impurity_decrease=0.0,\n",
              "                      min_impurity_split=None, min_samples_leaf=1,\n",
              "                      min_samples_split=2, min_weight_fraction_leaf=0.0,\n",
              "                      n_estimators=100, n_jobs=None, oob_score=False,\n",
              "                      random_state=None, verbose=0, warm_start=False)"
            ]
          },
          "metadata": {
            "tags": []
          },
          "execution_count": 59
        }
      ]
    },
    {
      "cell_type": "code",
      "metadata": {
        "colab": {
          "base_uri": "https://localhost:8080/",
          "height": 35
        },
        "id": "BlmatAse4KnD",
        "outputId": "373cc4db-7574-413f-ed49-7002bbf1c528"
      },
      "source": [
        "accuracy = model.score(X_test,Y_test)\n",
        "\"Accuracy: {}%\".format(int(round(accuracy * 100)))"
      ],
      "execution_count": 60,
      "outputs": [
        {
          "output_type": "execute_result",
          "data": {
            "application/vnd.google.colaboratory.intrinsic+json": {
              "type": "string"
            },
            "text/plain": [
              "'Accuracy: 54%'"
            ]
          },
          "metadata": {
            "tags": []
          },
          "execution_count": 60
        }
      ]
    },
    {
      "cell_type": "code",
      "metadata": {
        "colab": {
          "base_uri": "https://localhost:8080/"
        },
        "id": "occns1ua5GIn",
        "outputId": "38109df7-2f0a-412f-91c3-be27024fb2a1"
      },
      "source": [
        "result = model.predict(X_test)\n",
        "# round(result)\n",
        "predict_list = []\n",
        "for i in result:\n",
        "  x = predict_list.append(round(i))\n",
        "print(predict_list)"
      ],
      "execution_count": 73,
      "outputs": [
        {
          "output_type": "stream",
          "text": [
            "[5, 5, 6, 5, 5, 5, 6, 7, 6, 6, 6, 5, 7, 5, 5, 5, 6, 5, 6, 5, 6, 5, 7, 7, 5, 5, 6, 6, 6, 7, 5, 5, 6, 5, 5, 6, 6, 6, 5, 6, 5, 5, 6, 5, 5, 6, 6, 6, 5, 6, 5, 5, 6, 5, 5, 6, 6, 5, 5, 6, 6, 6, 5, 5, 5, 5, 5, 5, 7, 6, 6, 7, 6, 6, 5, 6, 6, 5, 6, 6, 6, 6, 5, 6, 6, 6, 6, 5, 6, 6, 5, 6, 5, 7, 5, 6, 6, 5, 5, 5, 5, 7, 6, 6, 6, 6, 6, 7, 6, 5, 5, 6, 6, 6, 5, 7, 6, 6, 6, 5, 6, 6, 6, 6, 6, 6, 7, 6, 5, 7, 5, 5, 6, 5, 5, 7, 5, 5, 6, 7, 5, 5, 6, 5, 5, 6, 5, 5, 6, 5, 6, 6, 5, 5, 5, 6, 5, 5, 5, 5, 5, 6, 6, 7, 6, 5, 5, 7, 7, 6, 5, 5, 5, 6, 6, 5, 6, 7, 6, 5, 6, 6, 6, 6, 7, 6, 5, 5, 5, 6, 6, 5, 7, 5, 5, 6, 6, 7, 6, 5, 5, 6, 6, 5, 6, 6, 5, 6, 6, 5, 5, 7, 5, 5, 6, 5, 6, 5, 6, 7, 5, 6, 6, 7, 5, 6, 6, 6, 5]\n"
          ],
          "name": "stdout"
        }
      ]
    },
    {
      "cell_type": "code",
      "metadata": {
        "id": "YhoRlvDj7Zno"
      },
      "source": [
        ""
      ],
      "execution_count": null,
      "outputs": []
    }
  ]
}