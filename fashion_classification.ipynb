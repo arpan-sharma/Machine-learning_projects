{
  "nbformat": 4,
  "nbformat_minor": 0,
  "metadata": {
    "colab": {
      "name": "fashion_classification.ipynb",
      "provenance": [],
      "collapsed_sections": [],
      "authorship_tag": "ABX9TyOiowoWPxOTgEumeK5Inyvl",
      "include_colab_link": true
    },
    "kernelspec": {
      "name": "python3",
      "display_name": "Python 3"
    },
    "language_info": {
      "name": "python"
    }
  },
  "cells": [
    {
      "cell_type": "markdown",
      "metadata": {
        "id": "view-in-github",
        "colab_type": "text"
      },
      "source": [
        "<a href=\"https://colab.research.google.com/github/arpan405029/deep-learning_project/blob/main/fashion_classification.ipynb\" target=\"_parent\"><img src=\"https://colab.research.google.com/assets/colab-badge.svg\" alt=\"Open In Colab\"/></a>"
      ]
    },
    {
      "cell_type": "code",
      "metadata": {
        "id": "dMr5z8Q-6xR1"
      },
      "source": [
        "import keras\n",
        "import tensorflow as tf\n",
        "import numpy as np\n",
        "import pandas as pd\n",
        "import matplotlib.pyplot as plt\n",
        "import seaborn as sns"
      ],
      "execution_count": 2,
      "outputs": []
    },
    {
      "cell_type": "markdown",
      "metadata": {
        "id": "qyAlBNu7rWKQ"
      },
      "source": [
        "# Load Data"
      ]
    },
    {
      "cell_type": "code",
      "metadata": {
        "colab": {
          "base_uri": "https://localhost:8080/"
        },
        "id": "15semgPnrcyg",
        "outputId": "9a8db0b5-45b1-4575-aef9-fa3246a95794"
      },
      "source": [
        " (x_train,y_train),(x_test,y_test)  = tf.keras.datasets.fashion_mnist.load_data()"
      ],
      "execution_count": 3,
      "outputs": [
        {
          "output_type": "stream",
          "text": [
            "Downloading data from https://storage.googleapis.com/tensorflow/tf-keras-datasets/train-labels-idx1-ubyte.gz\n",
            "32768/29515 [=================================] - 0s 0us/step\n",
            "Downloading data from https://storage.googleapis.com/tensorflow/tf-keras-datasets/train-images-idx3-ubyte.gz\n",
            "26427392/26421880 [==============================] - 0s 0us/step\n",
            "Downloading data from https://storage.googleapis.com/tensorflow/tf-keras-datasets/t10k-labels-idx1-ubyte.gz\n",
            "8192/5148 [===============================================] - 0s 0us/step\n",
            "Downloading data from https://storage.googleapis.com/tensorflow/tf-keras-datasets/t10k-images-idx3-ubyte.gz\n",
            "4423680/4422102 [==============================] - 0s 0us/step\n"
          ],
          "name": "stdout"
        }
      ]
    },
    {
      "cell_type": "code",
      "metadata": {
        "colab": {
          "base_uri": "https://localhost:8080/"
        },
        "id": "fuCODbA4uEDe",
        "outputId": "1dcdf8b7-714b-4d88-c32a-c4e4641019c4"
      },
      "source": [
        "x_train.shape, y_train.shape "
      ],
      "execution_count": 4,
      "outputs": [
        {
          "output_type": "execute_result",
          "data": {
            "text/plain": [
              "((60000, 28, 28), (60000,))"
            ]
          },
          "metadata": {
            "tags": []
          },
          "execution_count": 4
        }
      ]
    },
    {
      "cell_type": "code",
      "metadata": {
        "colab": {
          "base_uri": "https://localhost:8080/"
        },
        "id": "se4wTNaRSn-Y",
        "outputId": "f3da443c-6992-466d-c0a8-b5e2d8c377c3"
      },
      "source": [
        "x_test.shape, y_test.shape"
      ],
      "execution_count": 5,
      "outputs": [
        {
          "output_type": "execute_result",
          "data": {
            "text/plain": [
              "((10000, 28, 28), (10000,))"
            ]
          },
          "metadata": {
            "tags": []
          },
          "execution_count": 5
        }
      ]
    },
    {
      "cell_type": "markdown",
      "metadata": {
        "id": "jKRrENxkViEY"
      },
      "source": [
        "# Feature **Scaling**"
      ]
    },
    {
      "cell_type": "code",
      "metadata": {
        "id": "p1xJ-DkTVl2o"
      },
      "source": [
        "x_train = x_train/255\n",
        "x_test = x_test/255"
      ],
      "execution_count": 6,
      "outputs": []
    },
    {
      "cell_type": "markdown",
      "metadata": {
        "id": "gpupmgU7WiI3"
      },
      "source": [
        "# Build Neural Network"
      ]
    },
    {
      "cell_type": "code",
      "metadata": {
        "id": "_LBbe0qaWoMd"
      },
      "source": [
        "model = keras.models.Sequential([\n",
        "                                 keras.layers.Flatten(input_shape=[28,28]),\n",
        "                                 keras.layers.Dense(units=32,activation='relu'),\n",
        "                                 keras.layers.Dense(units=10, activation='softmax')\n",
        "\n",
        "])"
      ],
      "execution_count": 7,
      "outputs": []
    },
    {
      "cell_type": "code",
      "metadata": {
        "colab": {
          "base_uri": "https://localhost:8080/"
        },
        "id": "SoYkkQX3ZLwH",
        "outputId": "6f5d74cb-79bd-461e-95f3-75690a00fdb7"
      },
      "source": [
        "model.summary()"
      ],
      "execution_count": 8,
      "outputs": [
        {
          "output_type": "stream",
          "text": [
            "Model: \"sequential\"\n",
            "_________________________________________________________________\n",
            "Layer (type)                 Output Shape              Param #   \n",
            "=================================================================\n",
            "flatten (Flatten)            (None, 784)               0         \n",
            "_________________________________________________________________\n",
            "dense (Dense)                (None, 32)                25120     \n",
            "_________________________________________________________________\n",
            "dense_1 (Dense)              (None, 10)                330       \n",
            "=================================================================\n",
            "Total params: 25,450\n",
            "Trainable params: 25,450\n",
            "Non-trainable params: 0\n",
            "_________________________________________________________________\n"
          ],
          "name": "stdout"
        }
      ]
    },
    {
      "cell_type": "code",
      "metadata": {
        "id": "kFH4a4r6Z6YX"
      },
      "source": [
        "model.compile(optimizer='adam',loss='sparse_categorical_crossentropy',metrics=['accuracy'])\n"
      ],
      "execution_count": 9,
      "outputs": []
    },
    {
      "cell_type": "code",
      "metadata": {
        "id": "CzZmVPTld6KW",
        "colab": {
          "base_uri": "https://localhost:8080/"
        },
        "outputId": "733906f4-9865-4fcd-8e14-134e54636997"
      },
      "source": [
        "model.fit(x_train,y_train,epochs=15)"
      ],
      "execution_count": 10,
      "outputs": [
        {
          "output_type": "stream",
          "text": [
            "Epoch 1/15\n",
            "1875/1875 [==============================] - 16s 1ms/step - loss: 0.7123 - accuracy: 0.7604\n",
            "Epoch 2/15\n",
            "1875/1875 [==============================] - 3s 1ms/step - loss: 0.4294 - accuracy: 0.8506\n",
            "Epoch 3/15\n",
            "1875/1875 [==============================] - 3s 1ms/step - loss: 0.3939 - accuracy: 0.8607\n",
            "Epoch 4/15\n",
            "1875/1875 [==============================] - 3s 1ms/step - loss: 0.3645 - accuracy: 0.8706\n",
            "Epoch 5/15\n",
            "1875/1875 [==============================] - 3s 1ms/step - loss: 0.3540 - accuracy: 0.8720\n",
            "Epoch 6/15\n",
            "1875/1875 [==============================] - 3s 1ms/step - loss: 0.3357 - accuracy: 0.8804\n",
            "Epoch 7/15\n",
            "1875/1875 [==============================] - 3s 1ms/step - loss: 0.3309 - accuracy: 0.8794\n",
            "Epoch 8/15\n",
            "1875/1875 [==============================] - 3s 1ms/step - loss: 0.3164 - accuracy: 0.8860\n",
            "Epoch 9/15\n",
            "1875/1875 [==============================] - 3s 1ms/step - loss: 0.3086 - accuracy: 0.8880\n",
            "Epoch 10/15\n",
            "1875/1875 [==============================] - 3s 1ms/step - loss: 0.3016 - accuracy: 0.8881\n",
            "Epoch 11/15\n",
            "1875/1875 [==============================] - 3s 1ms/step - loss: 0.2966 - accuracy: 0.8921\n",
            "Epoch 12/15\n",
            "1875/1875 [==============================] - 3s 1ms/step - loss: 0.2888 - accuracy: 0.8936\n",
            "Epoch 13/15\n",
            "1875/1875 [==============================] - 3s 1ms/step - loss: 0.2831 - accuracy: 0.8970\n",
            "Epoch 14/15\n",
            "1875/1875 [==============================] - 3s 1ms/step - loss: 0.2765 - accuracy: 0.8986\n",
            "Epoch 15/15\n",
            "1875/1875 [==============================] - 3s 1ms/step - loss: 0.2739 - accuracy: 0.9001\n"
          ],
          "name": "stdout"
        },
        {
          "output_type": "execute_result",
          "data": {
            "text/plain": [
              "<keras.callbacks.History at 0x7f6cec9b3050>"
            ]
          },
          "metadata": {
            "tags": []
          },
          "execution_count": 10
        }
      ]
    },
    {
      "cell_type": "markdown",
      "metadata": {
        "id": "yQuqFmU3fJGM"
      },
      "source": [
        "# Test And Evaluate Neural Network Model"
      ]
    },
    {
      "cell_type": "code",
      "metadata": {
        "colab": {
          "base_uri": "https://localhost:8080/"
        },
        "id": "DTX7ZMuOd6PJ",
        "outputId": "2d73c10f-0886-4dcc-af13-8deded27e546"
      },
      "source": [
        "model.evaluate(x_test,y_test)"
      ],
      "execution_count": 11,
      "outputs": [
        {
          "output_type": "stream",
          "text": [
            "313/313 [==============================] - 2s 2ms/step - loss: 0.3711 - accuracy: 0.8707\n"
          ],
          "name": "stdout"
        },
        {
          "output_type": "execute_result",
          "data": {
            "text/plain": [
              "[0.37112125754356384, 0.8707000017166138]"
            ]
          },
          "metadata": {
            "tags": []
          },
          "execution_count": 11
        }
      ]
    },
    {
      "cell_type": "code",
      "metadata": {
        "id": "75niuprf3ylL"
      },
      "source": [
        "y_pred = model.predict(x_test)"
      ],
      "execution_count": 12,
      "outputs": []
    },
    {
      "cell_type": "code",
      "metadata": {
        "colab": {
          "base_uri": "https://localhost:8080/"
        },
        "id": "1J1Nv8fk4FJ1",
        "outputId": "1c36b27b-e8ee-477b-dc40-5930a399c0a8"
      },
      "source": [
        "y_pred[0].round(2)\n"
      ],
      "execution_count": 13,
      "outputs": [
        {
          "output_type": "execute_result",
          "data": {
            "text/plain": [
              "array([0.  , 0.  , 0.  , 0.  , 0.  , 0.  , 0.  , 0.04, 0.  , 0.96],\n",
              "      dtype=float32)"
            ]
          },
          "metadata": {
            "tags": []
          },
          "execution_count": 13
        }
      ]
    },
    {
      "cell_type": "code",
      "metadata": {
        "colab": {
          "base_uri": "https://localhost:8080/"
        },
        "id": "VvDpaa6n4T3Z",
        "outputId": "070113d1-4430-449e-bf2e-1c76e9a95b68"
      },
      "source": [
        "np.argmax(y_pred[0].round(2))"
      ],
      "execution_count": 14,
      "outputs": [
        {
          "output_type": "execute_result",
          "data": {
            "text/plain": [
              "9"
            ]
          },
          "metadata": {
            "tags": []
          },
          "execution_count": 14
        }
      ]
    },
    {
      "cell_type": "code",
      "metadata": {
        "id": "oGO4kRut83Ei"
      },
      "source": [
        "class_labels = [\"T-shirt/top\",\"Trouser\",\"Pullover\",\"Dress\",\"Coat\",\"Sandal\",\"Shirt\",\"Sneaker\",\"Bag\",\"Ankle boot\"]"
      ],
      "execution_count": 16,
      "outputs": []
    },
    {
      "cell_type": "code",
      "metadata": {
        "colab": {
          "base_uri": "https://localhost:8080/",
          "height": 932
        },
        "id": "8YqnaQrw4lyz",
        "outputId": "4c8fedd3-3596-4927-e0fe-e2a7375da69b"
      },
      "source": [
        "plt.figure(figsize=(16,16))\n",
        "for i in range(25):\n",
        "  plt.subplot(5,5,i+1)\n",
        "  plt.imshow(x_test[i],cmap='gray')\n",
        "  plt.axis('off')\n",
        "  plt.title(\"Actual={} \\n Predicted ={}\".format(class_labels[y_test[i]], class_labels[np.argmax(y_pred[i])] )  )"
      ],
      "execution_count": 17,
      "outputs": [
        {
          "output_type": "display_data",
          "data": {
            "image/png": "[encoded data removed]",
            "text/plain": [
              "<Figure size 1152x1152 with 25 Axes>"
            ]
          },
          "metadata": {
            "tags": [],
            "needs_background": "light"
          }
        }
      ]
    },
    {
      "cell_type": "markdown",
      "metadata": {
        "id": "nwTnhLm13vU9"
      },
      "source": [
        "# Confusion Matrix"
      ]
    },
    {
      "cell_type": "code",
      "metadata": {
        "id": "3i3kyrnv4CTg"
      },
      "source": [
        "from sklearn.metrics import confusion_matrix\n",
        "cm = confusion_matrix(y_test, [ np.argmax(i) for i in y_pred])"
      ],
      "execution_count": 18,
      "outputs": []
    },
    {
      "cell_type": "code",
      "metadata": {
        "id": "B9zHe-504JiQ"
      },
      "source": [
        "plt.figure(figsize=(16,9))\n",
        "sns.heatmap(cm, annot=True, fmt = \"d\")"
      ],
      "execution_count": null,
      "outputs": []
    },
    {
      "cell_type": "markdown",
      "metadata": {
        "id": "DFmRdqH64SA6"
      },
      "source": [
        "# Classification Report"
      ]
    },
    {
      "cell_type": "code",
      "metadata": {
        "id": "K_RVxlSE4YFp"
      },
      "source": [
        "from sklearn.metrics import classification_report\n",
        "cr = classification_report(y_test, [ np.argmax(i) for i in y_pred], target_names = class_labels,)"
      ],
      "execution_count": 20,
      "outputs": []
    },
    {
      "cell_type": "code",
      "metadata": {
        "colab": {
          "base_uri": "https://localhost:8080/"
        },
        "id": "FQ9PIW4B4cTg",
        "outputId": "95026cf9-532f-46cb-f486-c61f808c5660"
      },
      "source": [
        "print(cr)"
      ],
      "execution_count": 21,
      "outputs": [
        {
          "output_type": "stream",
          "text": [
            "              precision    recall  f1-score   support\n",
            "\n",
            " T-shirt/top       0.79      0.86      0.82      1000\n",
            "     Trouser       0.97      0.97      0.97      1000\n",
            "    Pullover       0.77      0.76      0.77      1000\n",
            "       Dress       0.90      0.84      0.87      1000\n",
            "        Coat       0.74      0.84      0.79      1000\n",
            "      Sandal       0.95      0.97      0.96      1000\n",
            "       Shirt       0.73      0.60      0.66      1000\n",
            "     Sneaker       0.93      0.96      0.95      1000\n",
            "         Bag       0.95      0.97      0.96      1000\n",
            "  Ankle boot       0.97      0.93      0.95      1000\n",
            "\n",
            "    accuracy                           0.87     10000\n",
            "   macro avg       0.87      0.87      0.87     10000\n",
            "weighted avg       0.87      0.87      0.87     10000\n",
            "\n"
          ],
          "name": "stdout"
        }
      ]
    },
    {
      "cell_type": "markdown",
      "metadata": {
        "id": "mGJd_VOk4ln-"
      },
      "source": [
        "# Save Model"
      ]
    },
    {
      "cell_type": "code",
      "metadata": {
        "id": "lDSLQYo-4nZ5"
      },
      "source": [
        "model.save(\"First_project_fashion_model.h5\")"
      ],
      "execution_count": 22,
      "outputs": []
    },
    {
      "cell_type": "code",
      "metadata": {
        "id": "Ph5YWelW40Fo"
      },
      "source": [
        "model = keras.models.load_model(\"First_project_fashion_model.h5\")"
      ],
      "execution_count": 23,
      "outputs": []
    },
    {
      "cell_type": "code",
      "metadata": {
        "id": "0JNOYgMF46Gb"
      },
      "source": [
        "model.predict(x_test)"
      ],
      "execution_count": null,
      "outputs": []
    }
  ]
}